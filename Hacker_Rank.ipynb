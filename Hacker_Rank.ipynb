{
 "cells": [
  {
   "cell_type": "code",
   "execution_count": 63,
   "id": "f9b99b02",
   "metadata": {},
   "outputs": [
    {
     "name": "stdout",
     "output_type": "stream",
     "text": [
      "Enter The number11 8 8 9 7 1 4 7 9 3\n",
      "Enter The number1 4 7 8 8 9 4 3 77 88 99\n",
      "{1, 3, 4, 7, 8, 9, 11, 77, 88, 99}\n"
     ]
    }
   ],
   "source": [
    "### Hacker Rank problem Solution ## Union \n",
    "## This code let you know how to convert input numbers in int \n",
    "n1=set(map(int,input(\"Enter The number\").split(\" \")))\n",
    "n2=set(map(int,input(\"Enter The number\").split(\" \")))\n",
    "result=n1.union(n2)\n",
    "print(result)"
   ]
  },
  {
   "cell_type": "code",
   "execution_count": 9,
   "id": "724e4b76",
   "metadata": {},
   "outputs": [
    {
     "name": "stdout",
     "output_type": "stream",
     "text": [
      "1 7 8 9\n",
      "1 8 7 5 6\n",
      "{5, 6, 9}\n",
      "3\n"
     ]
    }
   ],
   "source": [
    "#n = int(input())\n",
    "# list(input().split())\n",
    "######How to convert a intergar input#############\n",
    "l = map(int,list(input().split()))\n",
    "#m = int(input())\n",
    "k = map(int,list(input().split()))\n",
    "s1 = set(l)\n",
    "s2 = set(k)\n",
    "\n",
    "print(s1.symmetric_difference(s2))\n",
    "print(len(s1.symmetric_difference(s2)))"
   ]
  },
  {
   "cell_type": "code",
   "execution_count": null,
   "id": "3214a3b1",
   "metadata": {},
   "outputs": [],
   "source": []
  }
 ],
 "metadata": {
  "kernelspec": {
   "display_name": "Python 3 (ipykernel)",
   "language": "python",
   "name": "python3"
  },
  "language_info": {
   "codemirror_mode": {
    "name": "ipython",
    "version": 3
   },
   "file_extension": ".py",
   "mimetype": "text/x-python",
   "name": "python",
   "nbconvert_exporter": "python",
   "pygments_lexer": "ipython3",
   "version": "3.9.12"
  }
 },
 "nbformat": 4,
 "nbformat_minor": 5
}
